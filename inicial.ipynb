{
 "cells": [
  {
   "cell_type": "markdown",
   "metadata": {},
   "source": [
    "# Projeto Python IA: Inteligência Artificial e Previsões\n",
    "\n",
    "### Case: Score de Crédito dos Clientes\n",
    "\n",
    "Você foi contratado por um banco para conseguir definir o score de crédito dos clientes. Você precisa analisar todos os clientes do banco e, com base nessa análise, criar um modelo que consiga ler as informações do cliente e dizer automaticamente o score de crédito dele: Ruim, Ok, Bom\n"
   ]
  },
  {
   "cell_type": "code",
   "execution_count": null,
   "metadata": {},
   "outputs": [],
   "source": [
    "# !pip install pandas numpy scikit-learn\n",
    "\n",
    "# Passo a Passo\n",
    "## Passo 0: Entender o desafio da empresa e da sua área\n",
    "## Passo 1: Importar a base de dados\n",
    "import pandas as pd\n",
    "\n",
    "tabela = pd.read_csv('clientes.csv')\n",
    "display(tabela)\n"
   ]
  },
  {
   "cell_type": "code",
   "execution_count": null,
   "metadata": {},
   "outputs": [],
   "source": [
    "# Verificar se a base de dados tem problemas\n",
    "display(tabela.info())"
   ]
  },
  {
   "cell_type": "code",
   "execution_count": null,
   "metadata": {},
   "outputs": [],
   "source": [
    "## Passo 2: Preparar a base de dados para a inteligência artificial\n",
    "# Colunas de texto que precisam de tratamento: profissao, mix_credito, comportamento_pagamento\n",
    "    # Label Encoder - Processo de tratamento para acontecer o pré-processamento da IA\n",
    "from sklearn.preprocessing import LabelEncoder\n",
    "\n",
    "codificador = LabelEncoder()\n",
    "\n",
    "tabela['profissao'] = codificador.fit_transform(tabela['profissao'])\n",
    "tabela['mix_credito'] = codificador.fit_transform(tabela['mix_credito'])\n",
    "tabela['comportamento_pagamento'] = codificador.fit_transform(tabela['comportamento_pagamento'])\n",
    "\n",
    "display(tabela.info())\n",
    "\n"
   ]
  },
  {
   "cell_type": "code",
   "execution_count": 9,
   "metadata": {},
   "outputs": [],
   "source": [
    "# x é quem a IA pode usar para fazer a previsão\n",
    "# y é quem a IA tem que prever\n",
    "x = tabela.drop(columns=['score_credito', 'id_cliente'])\n",
    "y = tabela['score_credito']\n",
    "\n",
    "from sklearn.model_selection import train_test_split \n",
    "\n",
    "x_treino, x_teste, y_treino, y_teste = train_test_split(x , y, test_size=0.3) # No máximo 20% a 40% de teste e 60% a 80% para treino"
   ]
  },
  {
   "cell_type": "code",
   "execution_count": null,
   "metadata": {},
   "outputs": [],
   "source": [
    "## Passo 3: Criar um modelo de IA -> Nota de crédito: Ruim, Média ou Boa\n",
    "# Modelos de IA:\n",
    "    # Arvore de Decisão -> RandomForest\n",
    "    # Neirest Neighbors -> KNN -> Vizinhos Próximos\n",
    "# Etapas para treinar a IA\n",
    "    # 1º - Importar a IA\n",
    "from sklearn.ensemble import RandomForestClassifier\n",
    "from sklearn.neighbors import KNeighborsClassifier\n",
    "\n",
    "modelo_arvoredecisao = RandomForestClassifier()\n",
    "modelo_knn = KNeighborsClassifier()\n",
    "\n",
    "    # 2º - Criar a IA\n",
    "modelo_arvoredecisao.fit(x_treino, y_treino)\n",
    "modelo_knn.fit(x_treino, y_treino)\n",
    "\n",
    "    # 3º - Treinar a IA"
   ]
  },
  {
   "cell_type": "code",
   "execution_count": null,
   "metadata": {},
   "outputs": [],
   "source": [
    "## Passo 4: Escolher o melhor modelo\n",
    "previsao_arvoredecisao = modelo_arvoredecisao.predict(x_teste)\n",
    "previsao_knn = modelo_knn.predict(x_teste)\n",
    "\n",
    "from sklearn.metrics import accuracy_score # Precisão do modelo\n",
    "\n",
    "display(accuracy_score(y_teste, previsao_arvoredecisao))\n",
    "display(accuracy_score(y_teste, previsao_knn))"
   ]
  },
  {
   "cell_type": "code",
   "execution_count": null,
   "metadata": {},
   "outputs": [],
   "source": [
    "## Passo 5: Usar o modelo para fazer novas previsões\n",
    "# Etapas antes da previsão final:\n",
    "    # 1º - Importar novos clientes\n",
    "tabela_novos_clientes = pd.read_csv('novos_clientes.csv')\n",
    "display(tabela_novos_clientes)\n",
    "\n",
    "    # 2º - Ajustas as colunas de texto\n",
    "tabela_novos_clientes['profissao'] = codificador.fit_transform(tabela_novos_clientes['profissao'])\n",
    "tabela_novos_clientes['mix_credito'] = codificador.fit_transform(tabela_novos_clientes['mix_credito'])\n",
    "tabela_novos_clientes['comportamento_pagamento'] = codificador.fit_transform(tabela_novos_clientes['comportamento_pagamento'])\n",
    "\n",
    "    # 3º - Fazer previsões - modelo_arvoredecisao\n",
    "previoes = modelo_arvoredecisao.predict(tabela_novos_clientes)\n",
    "\n",
    "display(previoes)"
   ]
  }
 ],
 "metadata": {
  "kernelspec": {
   "display_name": "Python 3",
   "language": "python",
   "name": "python3"
  },
  "language_info": {
   "codemirror_mode": {
    "name": "ipython",
    "version": 3
   },
   "file_extension": ".py",
   "mimetype": "text/x-python",
   "name": "python",
   "nbconvert_exporter": "python",
   "pygments_lexer": "ipython3",
   "version": "3.12.4"
  },
  "orig_nbformat": 4
 },
 "nbformat": 4,
 "nbformat_minor": 2
}
